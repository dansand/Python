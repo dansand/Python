{
 "cells": [
  {
   "cell_type": "code",
   "execution_count": 1,
   "metadata": {
    "collapsed": true
   },
   "outputs": [],
   "source": [
    "import numpy as np"
   ]
  },
  {
   "cell_type": "code",
   "execution_count": 2,
   "metadata": {
    "collapsed": true
   },
   "outputs": [],
   "source": [
    "filepath = \"../../data/europe-seasonal.txt\"\n",
    "data = np.loadtxt(filepath, converters=None, skiprows=119)"
   ]
  },
  {
   "cell_type": "code",
   "execution_count": 3,
   "metadata": {
    "collapsed": false
   },
   "outputs": [],
   "source": []
  },
  {
   "cell_type": "code",
   "execution_count": 4,
   "metadata": {
    "collapsed": false
   },
   "outputs": [],
   "source": [
    "#np.set_printoptions.func_globals"
   ]
  },
  {
   "cell_type": "code",
   "execution_count": 5,
   "metadata": {
    "collapsed": false
   },
   "outputs": [
    {
     "data": {
      "text/plain": [
       "(505, 6)"
      ]
     },
     "execution_count": 5,
     "metadata": {},
     "output_type": "execute_result"
    }
   ],
   "source": [
    "data.shape"
   ]
  },
  {
   "cell_type": "code",
   "execution_count": 6,
   "metadata": {
    "collapsed": false
   },
   "outputs": [
    {
     "data": {
      "text/plain": [
       "array([[  1.50000000e+03,  -9.45000000e-01,   7.15700000e+00,\n",
       "          1.74830000e+01,   8.99000000e+00,   8.16600000e+00],\n",
       "       [  1.50100000e+03,  -8.50000000e-01,   7.43500000e+00,\n",
       "          1.74010000e+01,   8.68700000e+00,   8.16300000e+00],\n",
       "       [  1.50200000e+03,  -1.05300000e+00,   6.87200000e+00,\n",
       "          1.79060000e+01,   9.07100000e+00,   8.19400000e+00],\n",
       "       ..., \n",
       "       [  2.00200000e+03,   2.07000000e-01,   9.21400000e+00,\n",
       "          1.89050000e+01,   9.30100000e+00,   9.50800000e+00],\n",
       "       [  2.00300000e+03,  -1.10100000e+00,   8.52100000e+00,\n",
       "          1.96150000e+01,   9.83800000e+00,   9.37400000e+00],\n",
       "       [  2.00400000e+03,   1.87000000e-01,   8.29700000e+00,\n",
       "          1.83250000e+01,   1.00730000e+01,   9.23500000e+00]])"
      ]
     },
     "execution_count": 6,
     "metadata": {},
     "output_type": "execute_result"
    }
   ],
   "source": [
    "np.loadtxt(filepath, converters=None, skiprows=119)"
   ]
  },
  {
   "cell_type": "code",
   "execution_count": 1,
   "metadata": {
    "collapsed": false
   },
   "outputs": [
    {
     "ename": "NameError",
     "evalue": "name 'np' is not defined",
     "output_type": "error",
     "traceback": [
      "\u001b[0;31m---------------------------------------------------------------------------\u001b[0m",
      "\u001b[0;31mNameError\u001b[0m                                 Traceback (most recent call last)",
      "\u001b[0;32m<ipython-input-1-f6af837413a0>\u001b[0m in \u001b[0;36m<module>\u001b[0;34m()\u001b[0m\n\u001b[1;32m      1\u001b[0m \u001b[0mfilepath\u001b[0m \u001b[0;34m=\u001b[0m \u001b[0;34m\"../../data/europe-seasonal.txt\"\u001b[0m\u001b[0;34m\u001b[0m\u001b[0m\n\u001b[0;32m----> 2\u001b[0;31m \u001b[0mdata\u001b[0m \u001b[0;34m=\u001b[0m \u001b[0mnp\u001b[0m\u001b[0;34m.\u001b[0m\u001b[0mloadtxt\u001b[0m\u001b[0;34m(\u001b[0m\u001b[0mfilepath\u001b[0m\u001b[0;34m,\u001b[0m \u001b[0mconverters\u001b[0m\u001b[0;34m=\u001b[0m\u001b[0mNone\u001b[0m\u001b[0;34m,\u001b[0m \u001b[0mskiprows\u001b[0m\u001b[0;34m=\u001b[0m\u001b[0;36m119\u001b[0m\u001b[0;34m)\u001b[0m\u001b[0;34m\u001b[0m\u001b[0m\n\u001b[0m\u001b[1;32m      3\u001b[0m \u001b[0;32mprint\u001b[0m\u001b[0;34m(\u001b[0m\u001b[0mdata\u001b[0m\u001b[0;34m)\u001b[0m\u001b[0;34m\u001b[0m\u001b[0m\n",
      "\u001b[0;31mNameError\u001b[0m: name 'np' is not defined"
     ]
    }
   ],
   "source": [
    "filepath = \"../../data/europe-seasonal.txt\"\n",
    "data = np.loadtxt(filepath, converters=None, skiprows=119)\n",
    "print(data)"
   ]
  },
  {
   "cell_type": "code",
   "execution_count": 15,
   "metadata": {
    "collapsed": false
   },
   "outputs": [
    {
     "name": "stdout",
     "output_type": "stream",
     "text": [
      "('random value in data:', 8.2959999999999994)\n"
     ]
    }
   ],
   "source": [
    "print('random value in data:', data[250, 2])"
   ]
  },
  {
   "cell_type": "code",
   "execution_count": 7,
   "metadata": {
    "collapsed": false,
    "scrolled": true
   },
   "outputs": [
    {
     "name": "stdout",
     "output_type": "stream",
     "text": [
      "[[  1.50000000e+03  -9.45000000e-01   7.15700000e+00   1.74830000e+01\n",
      "    8.99000000e+00   8.16600000e+00]\n",
      " [  1.50100000e+03  -8.50000000e-01   7.43500000e+00   1.74010000e+01\n",
      "    8.68700000e+00   8.16300000e+00]\n",
      " [  1.50200000e+03  -1.05300000e+00   6.87200000e+00   1.79060000e+01\n",
      "    9.07100000e+00   8.19400000e+00]\n",
      " [  1.50300000e+03  -2.13400000e+00   7.21000000e+00   1.83310000e+01\n",
      "    8.92200000e+00   8.07700000e+00]]\n"
     ]
    }
   ],
   "source": [
    "print(data[0:4, 0:10])"
   ]
  },
  {
   "cell_type": "code",
   "execution_count": 26,
   "metadata": {
    "collapsed": false
   },
   "outputs": [
    {
     "name": "stdout",
     "output_type": "stream",
     "text": [
      "European Seasonal Temperature Reconstructions\r\n",
      "-----------------------------------------------------------------------\r\n",
      "               World Data Center for Paleoclimatology, Boulder\r\n",
      "                                  and\r\n",
      "                     NOAA Paleoclimatology Program\r\n",
      "-----------------------------------------------------------------------\r\n",
      "NOTE: PLEASE CITE CONTRIBUTORS WHEN USING THIS DATA!!!!!\r\n",
      "\r\n",
      "\r\n",
      "NAME OF DATA SET: European Seasonal Temperature Reconstructions\r\n",
      "LAST UPDATE: 6/2006 (Original receipt by WDC Paleo)\r\n",
      "CONTRIBUTOR: Juerg Luterbacher, University of Bern\r\n",
      "IGBP PAGES/WDCA CONTRIBUTION SERIES NUMBER: 2006-060\r\n",
      "\r\n",
      "SUGGESTED DATA CITATION: Luterbacher, J., et al.  2006. \r\n",
      "European Seasonal Temperature Reconstructions.\r\n",
      "IGBP PAGES/World Data Center for Paleoclimatology \r\n",
      "Data Contribution Series # 2006-060.\r\n",
      "NOAA/NCDC Paleoclimatology Program, Boulder CO, USA.\r\n",
      "\r\n"
     ]
    }
   ],
   "source": [
    "!head -20 $filepath"
   ]
  },
  {
   "cell_type": "code",
   "execution_count": 20,
   "metadata": {
    "collapsed": false
   },
   "outputs": [
    {
     "data": {
      "text/plain": [
       "'../../data/europe-seasonal.txt'"
      ]
     },
     "execution_count": 20,
     "metadata": {},
     "output_type": "execute_result"
    }
   ],
   "source": [
    "filepath"
   ]
  },
  {
   "cell_type": "code",
   "execution_count": 32,
   "metadata": {
    "collapsed": false
   },
   "outputs": [
    {
     "name": "stdout",
     "output_type": "stream",
     "text": [
      "[[  1.50500000e+03   4.80000000e-02   7.32300000e+00   1.73410000e+01\n",
      "    9.28600000e+00]\n",
      " [  1.50600000e+03   6.40000000e-02   7.11600000e+00   1.75720000e+01\n",
      "    8.95800000e+00]\n",
      " [  1.50700000e+03   6.12000000e-01   6.22900000e+00   1.75100000e+01\n",
      "    9.07100000e+00]\n",
      " [  1.50800000e+03  -2.09900000e+00   6.81800000e+00   1.73100000e+01\n",
      "    9.17800000e+00]\n",
      " [  1.50900000e+03  -1.44600000e+00   7.32300000e+00   1.78560000e+01\n",
      "    9.07100000e+00]]\n"
     ]
    }
   ],
   "source": [
    "print(data[5:10, 0:5])"
   ]
  },
  {
   "cell_type": "code",
   "execution_count": 29,
   "metadata": {
    "collapsed": false
   },
   "outputs": [
    {
     "data": {
      "text/plain": [
       "(505, 6)"
      ]
     },
     "execution_count": 29,
     "metadata": {},
     "output_type": "execute_result"
    }
   ],
   "source": [
    "data.shape"
   ]
  },
  {
   "cell_type": "code",
   "execution_count": 33,
   "metadata": {
    "collapsed": false
   },
   "outputs": [
    {
     "name": "stdout",
     "output_type": "stream",
     "text": [
      "small is:\n",
      "[[ 17.483   8.99    8.166]\n",
      " [ 17.401   8.687   8.163]\n",
      " [ 17.906   9.071   8.194]\n",
      " [ 18.331   8.922   8.077]\n",
      " [ 18.223   9.075   8.163]]\n"
     ]
    }
   ],
   "source": [
    "small = data[:5, 3:]\n",
    "print('small is:')\n",
    "print(small)"
   ]
  },
  {
   "cell_type": "code",
   "execution_count": 8,
   "metadata": {
    "collapsed": false
   },
   "outputs": [
    {
     "name": "stdout",
     "output_type": "stream",
     "text": [
      "Year        DJF         MAM        JJA         SON        Annual\r\n",
      "1500      -0.945       7.157      17.483       8.990       8.166\r\n"
     ]
    }
   ],
   "source": [
    "!head -120 $filepath | tail -2"
   ]
  },
  {
   "cell_type": "code",
   "execution_count": 13,
   "metadata": {
    "collapsed": false
   },
   "outputs": [
    {
     "name": "stdout",
     "output_type": "stream",
     "text": [
      "[  1.50000000e+03  -9.45000000e-01   7.15700000e+00   1.74830000e+01\n",
      "   8.99000000e+00   8.16600000e+00]\n"
     ]
    }
   ],
   "source": [
    "print(data[0,:])"
   ]
  },
  {
   "cell_type": "code",
   "execution_count": 20,
   "metadata": {
    "collapsed": false
   },
   "outputs": [
    {
     "name": "stdout",
     "output_type": "stream",
     "text": [
      "[  1.50e+03  -9.45e-01   7.16e+00   1.75e+01   8.99e+00   8.17e+00]\n"
     ]
    }
   ],
   "source": [
    "\n"
   ]
  },
  {
   "cell_type": "code",
   "execution_count": 8,
   "metadata": {
    "collapsed": false
   },
   "outputs": [
    {
     "name": "stdout",
     "output_type": "stream",
     "text": [
      "[  1.50000000e+03  -9.45000000e-01   7.15700000e+00   1.74830000e+01\n",
      "   8.99000000e+00   8.16600000e+00]\n"
     ]
    }
   ],
   "source": [
    "#np.set_printoptions(precision=2)\n",
    "#np.set_printoptions(formatter={'float': '{: 0.3f}'.format})\n",
    "print(data[0,:])"
   ]
  },
  {
   "cell_type": "code",
   "execution_count": 12,
   "metadata": {
    "collapsed": false
   },
   "outputs": [
    {
     "name": "stdout",
     "output_type": "stream",
     "text": [
      "[ 1500.  1501.  1502.  1503.  1504.  1505.  1506.  1507.  1508.  1509.]\n"
     ]
    }
   ],
   "source": [
    "print(data[0:10,0])"
   ]
  },
  {
   "cell_type": "code",
   "execution_count": 11,
   "metadata": {
    "collapsed": false
   },
   "outputs": [
    {
     "data": {
      "text/plain": [
       "1500.0"
      ]
     },
     "execution_count": 11,
     "metadata": {},
     "output_type": "execute_result"
    }
   ],
   "source": [
    "data[0,0]"
   ]
  },
  {
   "cell_type": "code",
   "execution_count": 13,
   "metadata": {
    "collapsed": false
   },
   "outputs": [
    {
     "data": {
      "text/plain": [
       "dtype('float64')"
      ]
     },
     "execution_count": 13,
     "metadata": {},
     "output_type": "execute_result"
    }
   ],
   "source": [
    "data.dtype"
   ]
  },
  {
   "cell_type": "code",
   "execution_count": 16,
   "metadata": {
    "collapsed": true
   },
   "outputs": [],
   "source": [
    "data[0,0] = int(1500)"
   ]
  },
  {
   "cell_type": "code",
   "execution_count": 18,
   "metadata": {
    "collapsed": false
   },
   "outputs": [
    {
     "data": {
      "text/plain": [
       "1500"
      ]
     },
     "execution_count": 18,
     "metadata": {},
     "output_type": "execute_result"
    }
   ],
   "source": [
    "int(data[0,0])"
   ]
  },
  {
   "cell_type": "code",
   "execution_count": 20,
   "metadata": {
    "collapsed": false
   },
   "outputs": [
    {
     "name": "stdout",
     "output_type": "stream",
     "text": [
      "1500.0\n"
     ]
    }
   ],
   "source": [
    "print(data[0,0])"
   ]
  },
  {
   "cell_type": "code",
   "execution_count": null,
   "metadata": {
    "collapsed": true
   },
   "outputs": [],
   "source": []
  }
 ],
 "metadata": {
  "kernelspec": {
   "display_name": "Python 2",
   "language": "python",
   "name": "python2"
  },
  "language_info": {
   "codemirror_mode": {
    "name": "ipython",
    "version": 2
   },
   "file_extension": ".py",
   "mimetype": "text/x-python",
   "name": "python",
   "nbconvert_exporter": "python",
   "pygments_lexer": "ipython2",
   "version": "2.7.11"
  }
 },
 "nbformat": 4,
 "nbformat_minor": 0
}
