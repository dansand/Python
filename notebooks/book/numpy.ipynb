{
 "cells": [
  {
   "cell_type": "code",
   "execution_count": 1,
   "metadata": {
    "collapsed": true
   },
   "outputs": [],
   "source": [
    "import numpy as np"
   ]
  },
  {
   "cell_type": "code",
   "execution_count": 4,
   "metadata": {
    "collapsed": true
   },
   "outputs": [],
   "source": [
    "filepath = \"../../data/europe-seasonal.txt\""
   ]
  },
  {
   "cell_type": "code",
   "execution_count": 6,
   "metadata": {
    "collapsed": false
   },
   "outputs": [],
   "source": [
    "data = np.loadtxt(filepath, converters=None, skiprows=119)"
   ]
  },
  {
   "cell_type": "code",
   "execution_count": 7,
   "metadata": {
    "collapsed": false
   },
   "outputs": [
    {
     "data": {
      "text/plain": [
       "(505, 6)"
      ]
     },
     "execution_count": 7,
     "metadata": {},
     "output_type": "execute_result"
    }
   ],
   "source": [
    "data.shape"
   ]
  },
  {
   "cell_type": "code",
   "execution_count": 8,
   "metadata": {
    "collapsed": false
   },
   "outputs": [
    {
     "data": {
      "text/plain": [
       "array([[  1.50000000e+03,  -9.45000000e-01,   7.15700000e+00,\n",
       "          1.74830000e+01,   8.99000000e+00,   8.16600000e+00],\n",
       "       [  1.50100000e+03,  -8.50000000e-01,   7.43500000e+00,\n",
       "          1.74010000e+01,   8.68700000e+00,   8.16300000e+00],\n",
       "       [  1.50200000e+03,  -1.05300000e+00,   6.87200000e+00,\n",
       "          1.79060000e+01,   9.07100000e+00,   8.19400000e+00],\n",
       "       ..., \n",
       "       [  2.00200000e+03,   2.07000000e-01,   9.21400000e+00,\n",
       "          1.89050000e+01,   9.30100000e+00,   9.50800000e+00],\n",
       "       [  2.00300000e+03,  -1.10100000e+00,   8.52100000e+00,\n",
       "          1.96150000e+01,   9.83800000e+00,   9.37400000e+00],\n",
       "       [  2.00400000e+03,   1.87000000e-01,   8.29700000e+00,\n",
       "          1.83250000e+01,   1.00730000e+01,   9.23500000e+00]])"
      ]
     },
     "execution_count": 8,
     "metadata": {},
     "output_type": "execute_result"
    }
   ],
   "source": [
    "np.loadtxt(filepath, converters=None, skiprows=119)"
   ]
  },
  {
   "cell_type": "code",
   "execution_count": 11,
   "metadata": {
    "collapsed": false
   },
   "outputs": [
    {
     "name": "stdout",
     "output_type": "stream",
     "text": [
      "('random value in data:', 8.2959999999999994)\n"
     ]
    }
   ],
   "source": [
    "print('random value in data:', data[250, 2])"
   ]
  },
  {
   "cell_type": "code",
   "execution_count": 12,
   "metadata": {
    "collapsed": false
   },
   "outputs": [
    {
     "name": "stdout",
     "output_type": "stream",
     "text": [
      "[[  1.50000000e+03  -9.45000000e-01   7.15700000e+00   1.74830000e+01\n",
      "    8.99000000e+00   8.16600000e+00]\n",
      " [  1.50100000e+03  -8.50000000e-01   7.43500000e+00   1.74010000e+01\n",
      "    8.68700000e+00   8.16300000e+00]\n",
      " [  1.50200000e+03  -1.05300000e+00   6.87200000e+00   1.79060000e+01\n",
      "    9.07100000e+00   8.19400000e+00]\n",
      " [  1.50300000e+03  -2.13400000e+00   7.21000000e+00   1.83310000e+01\n",
      "    8.92200000e+00   8.07700000e+00]]\n"
     ]
    }
   ],
   "source": [
    "print(data[0:4, 0:10])"
   ]
  },
  {
   "cell_type": "code",
   "execution_count": 13,
   "metadata": {
    "collapsed": true
   },
   "outputs": [],
   "source": [
    "x = eval('[ \"A\",\"B\",\"C\" , \" D\"]')"
   ]
  },
  {
   "cell_type": "code",
   "execution_count": 14,
   "metadata": {
    "collapsed": false
   },
   "outputs": [
    {
     "data": {
      "text/plain": [
       "['A', 'B', 'C', ' D']"
      ]
     },
     "execution_count": 14,
     "metadata": {},
     "output_type": "execute_result"
    }
   ],
   "source": [
    "x"
   ]
  },
  {
   "cell_type": "code",
   "execution_count": null,
   "metadata": {
    "collapsed": true
   },
   "outputs": [],
   "source": []
  }
 ],
 "metadata": {
  "kernelspec": {
   "display_name": "Python 2",
   "language": "python",
   "name": "python2"
  },
  "language_info": {
   "codemirror_mode": {
    "name": "ipython",
    "version": 2
   },
   "file_extension": ".py",
   "mimetype": "text/x-python",
   "name": "python",
   "nbconvert_exporter": "python",
   "pygments_lexer": "ipython2",
   "version": "2.7.11"
  }
 },
 "nbformat": 4,
 "nbformat_minor": 0
}
