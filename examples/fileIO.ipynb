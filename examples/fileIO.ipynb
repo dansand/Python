{
 "cells": [
  {
   "cell_type": "markdown",
   "metadata": {},
   "source": [
    "## File IO\n",
    "\n",
    "These notebooks are used to check certain examples in the course notes, hence they are mainly for the benefit of the course developers, rather than a teaching resource."
   ]
  },
  {
   "cell_type": "code",
   "execution_count": 64,
   "metadata": {
    "collapsed": true
   },
   "outputs": [],
   "source": [
    "import numpy as np\n",
    "import pandas as pd"
   ]
  },
  {
   "cell_type": "code",
   "execution_count": 3,
   "metadata": {
    "collapsed": false
   },
   "outputs": [],
   "source": [
    "#Go up one directory as this is where the 'current' directory assumed in the course notes "
   ]
  },
  {
   "cell_type": "code",
   "execution_count": 2,
   "metadata": {
    "collapsed": false
   },
   "outputs": [
    {
     "name": "stdout",
     "output_type": "stream",
     "text": [
      "/home/researcher/Python\n"
     ]
    }
   ],
   "source": [
    "cd .."
   ]
  },
  {
   "cell_type": "code",
   "execution_count": 30,
   "metadata": {
    "collapsed": false
   },
   "outputs": [
    {
     "name": "stdout",
     "output_type": "stream",
     "text": [
      "PassengerId,Pclass,Name,Sex,Age,SibSp,Parch,Ticket,Fare,Cabin,Embarked\r",
      "\r\n",
      "892,3,\"Kelly, Mr. James\",male,34.5,0,0,330911,7.8292,,Q\r",
      "\r\n",
      "893,3,\"Wilkes, Mrs. James (Ellen Needs)\",female,47,1,0,363272,7,,S\r",
      "\r\n"
     ]
    }
   ],
   "source": [
    "!head -3 \"data/titanic.csv\""
   ]
  },
  {
   "cell_type": "code",
   "execution_count": 31,
   "metadata": {
    "collapsed": false
   },
   "outputs": [
    {
     "name": "stdout",
     "output_type": "stream",
     "text": [
      "1307,3,\"Saether, Mr. Simon Sivertsen\",male,38.5,0,0,SOTON/O.Q. 3101262,7.25,,S\r",
      "\r\n",
      "1308,3,\"Ware, Mr. Frederick\",male,,0,0,359309,8.05,,S\r",
      "\r\n",
      "1309,3,\"Peter, Master. Michael J\",male,,1,1,2668,22.3583,,C\r",
      "\r\n"
     ]
    }
   ],
   "source": [
    "!tail -3 \"data/titanic.csv\""
   ]
  },
  {
   "cell_type": "markdown",
   "metadata": {},
   "source": [
    "## Python's open function"
   ]
  },
  {
   "cell_type": "code",
   "execution_count": 6,
   "metadata": {
    "collapsed": false
   },
   "outputs": [],
   "source": [
    "#Python has a built-in function open() to open a file. \n",
    "f = open(\"data/titanic.csv\", mode = 'r')"
   ]
  },
  {
   "cell_type": "code",
   "execution_count": 7,
   "metadata": {
    "collapsed": false
   },
   "outputs": [
    {
     "name": "stdout",
     "output_type": "stream",
     "text": [
      "<class '_io.TextIOWrapper'>\n"
     ]
    }
   ],
   "source": [
    "print(type(f))"
   ]
  },
  {
   "cell_type": "code",
   "execution_count": 10,
   "metadata": {
    "collapsed": true
   },
   "outputs": [],
   "source": [
    "data = f.read()     # read in all data until the end of file as a single string"
   ]
  },
  {
   "cell_type": "code",
   "execution_count": 11,
   "metadata": {
    "collapsed": false
   },
   "outputs": [
    {
     "name": "stdout",
     "output_type": "stream",
     "text": [
      "<class 'str'> 0\n"
     ]
    }
   ],
   "source": [
    "print(type(data), len(data))"
   ]
  },
  {
   "cell_type": "markdown",
   "metadata": {},
   "source": [
    "we can use readline() method to read individual lines of a file. This method reads a file till the newline, including the newline character"
   ]
  },
  {
   "cell_type": "code",
   "execution_count": 12,
   "metadata": {
    "collapsed": true
   },
   "outputs": [],
   "source": [
    "f = open(\"data/titanic.csv\", mode = 'r')"
   ]
  },
  {
   "cell_type": "code",
   "execution_count": 13,
   "metadata": {
    "collapsed": false
   },
   "outputs": [
    {
     "data": {
      "text/plain": [
       "'PassengerId,Pclass,Name,Sex,Age,SibSp,Parch,Ticket,Fare,Cabin,Embarked\\n'"
      ]
     },
     "execution_count": 13,
     "metadata": {},
     "output_type": "execute_result"
    }
   ],
   "source": [
    "f.readline()"
   ]
  },
  {
   "cell_type": "markdown",
   "metadata": {},
   "source": [
    "The next time we run readline, it will start from where we left off"
   ]
  },
  {
   "cell_type": "code",
   "execution_count": 15,
   "metadata": {
    "collapsed": false
   },
   "outputs": [
    {
     "data": {
      "text/plain": [
       "'893,3,\"Wilkes, Mrs. James (Ellen Needs)\",female,47,1,0,363272,7,,S\\n'"
      ]
     },
     "execution_count": 15,
     "metadata": {},
     "output_type": "execute_result"
    }
   ],
   "source": [
    "f.readline()"
   ]
  },
  {
   "cell_type": "markdown",
   "metadata": {},
   "source": [
    "As opposed to much text, where line breaks signify a geometric limitation, in the world of data, lines often have a a  crirical significance (i.e an individual record).\n",
    "\n",
    "The following examples show how we could extract indivdual lines and store them in a list."
   ]
  },
  {
   "cell_type": "code",
   "execution_count": 24,
   "metadata": {
    "collapsed": false
   },
   "outputs": [
    {
     "name": "stdout",
     "output_type": "stream",
     "text": [
      "419\n"
     ]
    }
   ],
   "source": [
    "f = open(\"data/titanic.csv\", mode = 'r')\n",
    "#We can read a file line-by-line using a for loop. \n",
    "lines = []\n",
    "for line in f:\n",
    "    lines.append(f)\n",
    "print(len(lines))"
   ]
  },
  {
   "cell_type": "code",
   "execution_count": 25,
   "metadata": {
    "collapsed": false
   },
   "outputs": [
    {
     "name": "stdout",
     "output_type": "stream",
     "text": [
      "419\n"
     ]
    }
   ],
   "source": [
    "#Or use the readlines() method returns a list of remaining lines of the entire file. \n",
    "f = open(\"data/titanic.csv\", mode = 'r')\n",
    "lines = f.readlines()\n",
    "print(len(lines))"
   ]
  },
  {
   "cell_type": "markdown",
   "metadata": {},
   "source": [
    "When we are done with operations to the file, we need to properly close it. Python has a garbage collector to clean up unreferenced objects. But we must not rely on it to close the file. Closing a file will free up the resources that were tied with the file and is done using the close() method."
   ]
  },
  {
   "cell_type": "code",
   "execution_count": 31,
   "metadata": {
    "collapsed": false
   },
   "outputs": [
    {
     "name": "stdout",
     "output_type": "stream",
     "text": [
      "<class '_io.TextIOWrapper'>\n"
     ]
    }
   ],
   "source": [
    "f.close()\n",
    "print(type(f))"
   ]
  },
  {
   "cell_type": "markdown",
   "metadata": {},
   "source": [
    "If an exception occurs when we are performing some operation with the file, the code exits without closing the file. he best way to do this is using the with statement. This ensures that the file is closed when the block inside with is exited. "
   ]
  },
  {
   "cell_type": "code",
   "execution_count": 5,
   "metadata": {
    "collapsed": false
   },
   "outputs": [
    {
     "name": "stdout",
     "output_type": "stream",
     "text": [
      "419\n"
     ]
    },
    {
     "ename": "ValueError",
     "evalue": "I/O operation on closed file.",
     "output_type": "error",
     "traceback": [
      "\u001b[1;31m\u001b[0m",
      "\u001b[1;31mValueError\u001b[0mTraceback (most recent call last)",
      "\u001b[1;32m<ipython-input-5-103dd8a3d451>\u001b[0m in \u001b[0;36m<module>\u001b[1;34m()\u001b[0m\n\u001b[0;32m      2\u001b[0m     \u001b[0mlines\u001b[0m \u001b[1;33m=\u001b[0m \u001b[0mf\u001b[0m\u001b[1;33m.\u001b[0m\u001b[0mreadlines\u001b[0m\u001b[1;33m(\u001b[0m\u001b[1;33m)\u001b[0m\u001b[1;33m\u001b[0m\u001b[0m\n\u001b[0;32m      3\u001b[0m \u001b[0mprint\u001b[0m\u001b[1;33m(\u001b[0m\u001b[0mlen\u001b[0m\u001b[1;33m(\u001b[0m\u001b[0mlines\u001b[0m\u001b[1;33m)\u001b[0m\u001b[1;33m)\u001b[0m\u001b[1;33m\u001b[0m\u001b[0m\n\u001b[1;32m----> 4\u001b[1;33m \u001b[0mf\u001b[0m\u001b[1;33m.\u001b[0m\u001b[0mread\u001b[0m\u001b[1;33m(\u001b[0m\u001b[1;33m)\u001b[0m\u001b[1;33m\u001b[0m\u001b[0m\n\u001b[0m",
      "\u001b[1;31mValueError\u001b[0m: I/O operation on closed file."
     ]
    }
   ],
   "source": [
    "with open(\"data/titanic.csv\",encoding = 'utf-8') as f:\n",
    "    lines = f.readlines()\n",
    "print(len(lines))\n",
    "f.read()"
   ]
  },
  {
   "cell_type": "markdown",
   "metadata": {},
   "source": [
    "## Numpy "
   ]
  },
  {
   "cell_type": "markdown",
   "metadata": {},
   "source": [
    "The last section showed how files can be read into Python as strings. What about when our data is numeric? In previous lessons we have looked at the case of importing .csv files with purely numeric data. In this case the numpy methods `np.loadtxt` or `np.genfromtxt` can easily turn our data in a numer numpy array. `np.genfromtxt` is a more robust version of loadtxt that can better handle missing data. \n",
    "\n",
    "If our csv file contains both characters and numbers, as in the current example, the situation is a little more challenging. \n",
    "\n",
    "First, let's try the naive approach:"
   ]
  },
  {
   "cell_type": "code",
   "execution_count": 42,
   "metadata": {
    "collapsed": false
   },
   "outputs": [
    {
     "ename": "ValueError",
     "evalue": "Some errors were detected !\n    Line #2 (got 12 columns instead of 11)\n    Line #3 (got 12 columns instead of 11)\n    Line #4 (got 12 columns instead of 11)\n    Line #5 (got 12 columns instead of 11)\n    Line #6 (got 12 columns instead of 11)\n    Line #7 (got 12 columns instead of 11)\n    Line #8 (got 12 columns instead of 11)\n    Line #9 (got 12 columns instead of 11)\n    Line #10 (got 12 columns instead of 11)\n    Line #11 (got 12 columns instead of 11)\n    Line #12 (got 12 columns instead of 11)\n    Line #13 (got 12 columns instead of 11)\n    Line #14 (got 12 columns instead of 11)\n    Line #15 (got 12 columns instead of 11)\n    Line #16 (got 12 columns instead of 11)\n    Line #17 (got 12 columns instead of 11)\n    Line #18 (got 12 columns instead of 11)\n    Line #19 (got 12 columns instead of 11)\n    Line #20 (got 12 columns instead of 11)\n    Line #21 (got 12 columns instead of 11)\n    Line #22 (got 12 columns instead of 11)\n    Line #23 (got 12 columns instead of 11)\n    Line #24 (got 12 columns instead of 11)\n    Line #25 (got 12 columns instead of 11)\n    Line #26 (got 12 columns instead of 11)\n    Line #27 (got 12 columns instead of 11)\n    Line #28 (got 12 columns instead of 11)\n    Line #29 (got 12 columns instead of 11)\n    Line #30 (got 12 columns instead of 11)\n    Line #31 (got 12 columns instead of 11)\n    Line #32 (got 12 columns instead of 11)\n    Line #33 (got 12 columns instead of 11)\n    Line #34 (got 12 columns instead of 11)\n    Line #35 (got 12 columns instead of 11)\n    Line #36 (got 12 columns instead of 11)\n    Line #37 (got 12 columns instead of 11)\n    Line #38 (got 12 columns instead of 11)\n    Line #39 (got 12 columns instead of 11)\n    Line #40 (got 12 columns instead of 11)\n    Line #41 (got 12 columns instead of 11)\n    Line #42 (got 12 columns instead of 11)\n    Line #43 (got 12 columns instead of 11)\n    Line #44 (got 12 columns instead of 11)\n    Line #45 (got 12 columns instead of 11)\n    Line #46 (got 12 columns instead of 11)\n    Line #47 (got 12 columns instead of 11)\n    Line #48 (got 12 columns instead of 11)\n    Line #49 (got 12 columns instead of 11)\n    Line #50 (got 12 columns instead of 11)\n    Line #51 (got 12 columns instead of 11)\n    Line #52 (got 12 columns instead of 11)\n    Line #53 (got 12 columns instead of 11)\n    Line #54 (got 12 columns instead of 11)\n    Line #55 (got 12 columns instead of 11)\n    Line #56 (got 12 columns instead of 11)\n    Line #57 (got 12 columns instead of 11)\n    Line #58 (got 12 columns instead of 11)\n    Line #59 (got 12 columns instead of 11)\n    Line #60 (got 12 columns instead of 11)\n    Line #61 (got 12 columns instead of 11)\n    Line #62 (got 12 columns instead of 11)\n    Line #63 (got 12 columns instead of 11)\n    Line #64 (got 12 columns instead of 11)\n    Line #65 (got 12 columns instead of 11)\n    Line #66 (got 12 columns instead of 11)\n    Line #67 (got 12 columns instead of 11)\n    Line #68 (got 12 columns instead of 11)\n    Line #69 (got 12 columns instead of 11)\n    Line #70 (got 12 columns instead of 11)\n    Line #71 (got 12 columns instead of 11)\n    Line #72 (got 12 columns instead of 11)\n    Line #73 (got 12 columns instead of 11)\n    Line #74 (got 12 columns instead of 11)\n    Line #75 (got 12 columns instead of 11)\n    Line #76 (got 12 columns instead of 11)\n    Line #77 (got 12 columns instead of 11)\n    Line #78 (got 12 columns instead of 11)\n    Line #79 (got 12 columns instead of 11)\n    Line #80 (got 12 columns instead of 11)\n    Line #81 (got 12 columns instead of 11)\n    Line #82 (got 12 columns instead of 11)\n    Line #83 (got 12 columns instead of 11)\n    Line #84 (got 12 columns instead of 11)\n    Line #85 (got 12 columns instead of 11)\n    Line #86 (got 12 columns instead of 11)\n    Line #87 (got 12 columns instead of 11)\n    Line #88 (got 12 columns instead of 11)\n    Line #89 (got 12 columns instead of 11)\n    Line #90 (got 12 columns instead of 11)\n    Line #91 (got 12 columns instead of 11)\n    Line #92 (got 12 columns instead of 11)\n    Line #93 (got 12 columns instead of 11)\n    Line #94 (got 12 columns instead of 11)\n    Line #95 (got 12 columns instead of 11)\n    Line #96 (got 12 columns instead of 11)\n    Line #97 (got 12 columns instead of 11)\n    Line #98 (got 12 columns instead of 11)\n    Line #99 (got 12 columns instead of 11)\n    Line #100 (got 12 columns instead of 11)\n    Line #101 (got 12 columns instead of 11)\n    Line #102 (got 12 columns instead of 11)\n    Line #103 (got 12 columns instead of 11)\n    Line #104 (got 12 columns instead of 11)\n    Line #105 (got 12 columns instead of 11)\n    Line #106 (got 12 columns instead of 11)\n    Line #107 (got 12 columns instead of 11)\n    Line #108 (got 12 columns instead of 11)\n    Line #109 (got 12 columns instead of 11)\n    Line #110 (got 12 columns instead of 11)\n    Line #111 (got 12 columns instead of 11)\n    Line #112 (got 12 columns instead of 11)\n    Line #113 (got 12 columns instead of 11)\n    Line #114 (got 12 columns instead of 11)\n    Line #115 (got 12 columns instead of 11)\n    Line #116 (got 12 columns instead of 11)\n    Line #117 (got 12 columns instead of 11)\n    Line #118 (got 12 columns instead of 11)\n    Line #119 (got 12 columns instead of 11)\n    Line #120 (got 12 columns instead of 11)\n    Line #121 (got 12 columns instead of 11)\n    Line #122 (got 12 columns instead of 11)\n    Line #123 (got 12 columns instead of 11)\n    Line #124 (got 12 columns instead of 11)\n    Line #125 (got 12 columns instead of 11)\n    Line #126 (got 12 columns instead of 11)\n    Line #127 (got 12 columns instead of 11)\n    Line #128 (got 12 columns instead of 11)\n    Line #129 (got 12 columns instead of 11)\n    Line #130 (got 12 columns instead of 11)\n    Line #131 (got 12 columns instead of 11)\n    Line #132 (got 12 columns instead of 11)\n    Line #133 (got 12 columns instead of 11)\n    Line #134 (got 12 columns instead of 11)\n    Line #135 (got 12 columns instead of 11)\n    Line #136 (got 12 columns instead of 11)\n    Line #137 (got 12 columns instead of 11)\n    Line #138 (got 12 columns instead of 11)\n    Line #139 (got 12 columns instead of 11)\n    Line #140 (got 12 columns instead of 11)\n    Line #141 (got 12 columns instead of 11)\n    Line #142 (got 12 columns instead of 11)\n    Line #143 (got 12 columns instead of 11)\n    Line #144 (got 12 columns instead of 11)\n    Line #145 (got 12 columns instead of 11)\n    Line #146 (got 12 columns instead of 11)\n    Line #147 (got 12 columns instead of 11)\n    Line #148 (got 12 columns instead of 11)\n    Line #149 (got 12 columns instead of 11)\n    Line #150 (got 12 columns instead of 11)\n    Line #151 (got 12 columns instead of 11)\n    Line #152 (got 12 columns instead of 11)\n    Line #153 (got 12 columns instead of 11)\n    Line #154 (got 12 columns instead of 11)\n    Line #155 (got 12 columns instead of 11)\n    Line #156 (got 12 columns instead of 11)\n    Line #157 (got 12 columns instead of 11)\n    Line #158 (got 12 columns instead of 11)\n    Line #159 (got 12 columns instead of 11)\n    Line #160 (got 12 columns instead of 11)\n    Line #161 (got 12 columns instead of 11)\n    Line #162 (got 12 columns instead of 11)\n    Line #163 (got 12 columns instead of 11)\n    Line #164 (got 12 columns instead of 11)\n    Line #165 (got 12 columns instead of 11)\n    Line #166 (got 12 columns instead of 11)\n    Line #167 (got 12 columns instead of 11)\n    Line #168 (got 12 columns instead of 11)\n    Line #169 (got 12 columns instead of 11)\n    Line #170 (got 12 columns instead of 11)\n    Line #171 (got 12 columns instead of 11)\n    Line #172 (got 12 columns instead of 11)\n    Line #173 (got 12 columns instead of 11)\n    Line #174 (got 12 columns instead of 11)\n    Line #175 (got 12 columns instead of 11)\n    Line #176 (got 12 columns instead of 11)\n    Line #177 (got 12 columns instead of 11)\n    Line #178 (got 12 columns instead of 11)\n    Line #179 (got 12 columns instead of 11)\n    Line #180 (got 12 columns instead of 11)\n    Line #181 (got 12 columns instead of 11)\n    Line #182 (got 12 columns instead of 11)\n    Line #183 (got 12 columns instead of 11)\n    Line #184 (got 12 columns instead of 11)\n    Line #185 (got 12 columns instead of 11)\n    Line #186 (got 12 columns instead of 11)\n    Line #187 (got 12 columns instead of 11)\n    Line #188 (got 12 columns instead of 11)\n    Line #189 (got 12 columns instead of 11)\n    Line #190 (got 12 columns instead of 11)\n    Line #191 (got 12 columns instead of 11)\n    Line #192 (got 12 columns instead of 11)\n    Line #193 (got 12 columns instead of 11)\n    Line #194 (got 12 columns instead of 11)\n    Line #195 (got 12 columns instead of 11)\n    Line #196 (got 12 columns instead of 11)\n    Line #197 (got 12 columns instead of 11)\n    Line #198 (got 12 columns instead of 11)\n    Line #199 (got 12 columns instead of 11)\n    Line #200 (got 12 columns instead of 11)\n    Line #201 (got 12 columns instead of 11)\n    Line #202 (got 12 columns instead of 11)\n    Line #203 (got 12 columns instead of 11)\n    Line #204 (got 12 columns instead of 11)\n    Line #205 (got 12 columns instead of 11)\n    Line #206 (got 12 columns instead of 11)\n    Line #207 (got 12 columns instead of 11)\n    Line #208 (got 12 columns instead of 11)\n    Line #209 (got 12 columns instead of 11)\n    Line #210 (got 12 columns instead of 11)\n    Line #211 (got 12 columns instead of 11)\n    Line #212 (got 12 columns instead of 11)\n    Line #213 (got 12 columns instead of 11)\n    Line #214 (got 12 columns instead of 11)\n    Line #215 (got 12 columns instead of 11)\n    Line #216 (got 12 columns instead of 11)\n    Line #217 (got 12 columns instead of 11)\n    Line #218 (got 12 columns instead of 11)\n    Line #219 (got 12 columns instead of 11)\n    Line #220 (got 12 columns instead of 11)\n    Line #221 (got 12 columns instead of 11)\n    Line #222 (got 12 columns instead of 11)\n    Line #223 (got 12 columns instead of 11)\n    Line #224 (got 12 columns instead of 11)\n    Line #225 (got 12 columns instead of 11)\n    Line #226 (got 12 columns instead of 11)\n    Line #227 (got 12 columns instead of 11)\n    Line #228 (got 12 columns instead of 11)\n    Line #229 (got 12 columns instead of 11)\n    Line #230 (got 12 columns instead of 11)\n    Line #231 (got 12 columns instead of 11)\n    Line #232 (got 12 columns instead of 11)\n    Line #233 (got 12 columns instead of 11)\n    Line #234 (got 12 columns instead of 11)\n    Line #235 (got 12 columns instead of 11)\n    Line #236 (got 12 columns instead of 11)\n    Line #237 (got 12 columns instead of 11)\n    Line #238 (got 12 columns instead of 11)\n    Line #239 (got 12 columns instead of 11)\n    Line #240 (got 12 columns instead of 11)\n    Line #241 (got 12 columns instead of 11)\n    Line #242 (got 12 columns instead of 11)\n    Line #243 (got 12 columns instead of 11)\n    Line #244 (got 12 columns instead of 11)\n    Line #245 (got 12 columns instead of 11)\n    Line #246 (got 12 columns instead of 11)\n    Line #247 (got 12 columns instead of 11)\n    Line #248 (got 12 columns instead of 11)\n    Line #249 (got 12 columns instead of 11)\n    Line #250 (got 12 columns instead of 11)\n    Line #251 (got 12 columns instead of 11)\n    Line #252 (got 12 columns instead of 11)\n    Line #253 (got 12 columns instead of 11)\n    Line #254 (got 12 columns instead of 11)\n    Line #255 (got 12 columns instead of 11)\n    Line #256 (got 12 columns instead of 11)\n    Line #257 (got 12 columns instead of 11)\n    Line #258 (got 12 columns instead of 11)\n    Line #259 (got 12 columns instead of 11)\n    Line #260 (got 12 columns instead of 11)\n    Line #261 (got 12 columns instead of 11)\n    Line #262 (got 12 columns instead of 11)\n    Line #263 (got 12 columns instead of 11)\n    Line #264 (got 12 columns instead of 11)\n    Line #265 (got 12 columns instead of 11)\n    Line #266 (got 12 columns instead of 11)\n    Line #267 (got 12 columns instead of 11)\n    Line #268 (got 12 columns instead of 11)\n    Line #269 (got 12 columns instead of 11)\n    Line #270 (got 12 columns instead of 11)\n    Line #271 (got 12 columns instead of 11)\n    Line #272 (got 12 columns instead of 11)\n    Line #273 (got 12 columns instead of 11)\n    Line #274 (got 12 columns instead of 11)\n    Line #275 (got 12 columns instead of 11)\n    Line #276 (got 12 columns instead of 11)\n    Line #277 (got 12 columns instead of 11)\n    Line #278 (got 12 columns instead of 11)\n    Line #279 (got 12 columns instead of 11)\n    Line #280 (got 12 columns instead of 11)\n    Line #281 (got 12 columns instead of 11)\n    Line #282 (got 12 columns instead of 11)\n    Line #283 (got 12 columns instead of 11)\n    Line #284 (got 12 columns instead of 11)\n    Line #285 (got 12 columns instead of 11)\n    Line #286 (got 12 columns instead of 11)\n    Line #287 (got 12 columns instead of 11)\n    Line #288 (got 12 columns instead of 11)\n    Line #289 (got 12 columns instead of 11)\n    Line #290 (got 12 columns instead of 11)\n    Line #291 (got 12 columns instead of 11)\n    Line #292 (got 12 columns instead of 11)\n    Line #293 (got 12 columns instead of 11)\n    Line #294 (got 12 columns instead of 11)\n    Line #295 (got 12 columns instead of 11)\n    Line #296 (got 12 columns instead of 11)\n    Line #297 (got 12 columns instead of 11)\n    Line #298 (got 12 columns instead of 11)\n    Line #299 (got 12 columns instead of 11)\n    Line #300 (got 12 columns instead of 11)\n    Line #301 (got 12 columns instead of 11)\n    Line #302 (got 12 columns instead of 11)\n    Line #303 (got 12 columns instead of 11)\n    Line #304 (got 12 columns instead of 11)\n    Line #305 (got 12 columns instead of 11)\n    Line #306 (got 12 columns instead of 11)\n    Line #307 (got 12 columns instead of 11)\n    Line #308 (got 12 columns instead of 11)\n    Line #309 (got 12 columns instead of 11)\n    Line #310 (got 12 columns instead of 11)\n    Line #311 (got 12 columns instead of 11)\n    Line #312 (got 12 columns instead of 11)\n    Line #313 (got 12 columns instead of 11)\n    Line #314 (got 12 columns instead of 11)\n    Line #315 (got 12 columns instead of 11)\n    Line #316 (got 12 columns instead of 11)\n    Line #317 (got 12 columns instead of 11)\n    Line #318 (got 12 columns instead of 11)\n    Line #319 (got 12 columns instead of 11)\n    Line #320 (got 12 columns instead of 11)\n    Line #321 (got 12 columns instead of 11)\n    Line #322 (got 12 columns instead of 11)\n    Line #323 (got 12 columns instead of 11)\n    Line #324 (got 12 columns instead of 11)\n    Line #325 (got 12 columns instead of 11)\n    Line #326 (got 12 columns instead of 11)\n    Line #327 (got 12 columns instead of 11)\n    Line #328 (got 12 columns instead of 11)\n    Line #329 (got 12 columns instead of 11)\n    Line #330 (got 12 columns instead of 11)\n    Line #331 (got 12 columns instead of 11)\n    Line #332 (got 12 columns instead of 11)\n    Line #333 (got 12 columns instead of 11)\n    Line #334 (got 12 columns instead of 11)\n    Line #335 (got 12 columns instead of 11)\n    Line #336 (got 12 columns instead of 11)\n    Line #337 (got 12 columns instead of 11)\n    Line #338 (got 12 columns instead of 11)\n    Line #339 (got 12 columns instead of 11)\n    Line #340 (got 12 columns instead of 11)\n    Line #341 (got 12 columns instead of 11)\n    Line #342 (got 12 columns instead of 11)\n    Line #343 (got 12 columns instead of 11)\n    Line #344 (got 12 columns instead of 11)\n    Line #345 (got 12 columns instead of 11)\n    Line #346 (got 12 columns instead of 11)\n    Line #347 (got 12 columns instead of 11)\n    Line #348 (got 12 columns instead of 11)\n    Line #349 (got 12 columns instead of 11)\n    Line #350 (got 12 columns instead of 11)\n    Line #351 (got 12 columns instead of 11)\n    Line #352 (got 12 columns instead of 11)\n    Line #353 (got 12 columns instead of 11)\n    Line #354 (got 12 columns instead of 11)\n    Line #355 (got 12 columns instead of 11)\n    Line #356 (got 12 columns instead of 11)\n    Line #357 (got 12 columns instead of 11)\n    Line #358 (got 12 columns instead of 11)\n    Line #359 (got 12 columns instead of 11)\n    Line #360 (got 12 columns instead of 11)\n    Line #361 (got 12 columns instead of 11)\n    Line #362 (got 12 columns instead of 11)\n    Line #363 (got 12 columns instead of 11)\n    Line #364 (got 12 columns instead of 11)\n    Line #365 (got 12 columns instead of 11)\n    Line #366 (got 12 columns instead of 11)\n    Line #367 (got 12 columns instead of 11)\n    Line #368 (got 12 columns instead of 11)\n    Line #369 (got 12 columns instead of 11)\n    Line #370 (got 12 columns instead of 11)\n    Line #371 (got 12 columns instead of 11)\n    Line #372 (got 12 columns instead of 11)\n    Line #373 (got 12 columns instead of 11)\n    Line #374 (got 12 columns instead of 11)\n    Line #375 (got 12 columns instead of 11)\n    Line #376 (got 12 columns instead of 11)\n    Line #377 (got 12 columns instead of 11)\n    Line #378 (got 12 columns instead of 11)\n    Line #379 (got 12 columns instead of 11)\n    Line #380 (got 12 columns instead of 11)\n    Line #381 (got 12 columns instead of 11)\n    Line #382 (got 12 columns instead of 11)\n    Line #383 (got 12 columns instead of 11)\n    Line #384 (got 12 columns instead of 11)\n    Line #385 (got 12 columns instead of 11)\n    Line #386 (got 12 columns instead of 11)\n    Line #387 (got 12 columns instead of 11)\n    Line #388 (got 12 columns instead of 11)\n    Line #389 (got 12 columns instead of 11)\n    Line #390 (got 12 columns instead of 11)\n    Line #391 (got 12 columns instead of 11)\n    Line #392 (got 12 columns instead of 11)\n    Line #393 (got 12 columns instead of 11)\n    Line #394 (got 12 columns instead of 11)\n    Line #395 (got 12 columns instead of 11)\n    Line #396 (got 12 columns instead of 11)\n    Line #397 (got 12 columns instead of 11)\n    Line #398 (got 12 columns instead of 11)\n    Line #399 (got 12 columns instead of 11)\n    Line #400 (got 12 columns instead of 11)\n    Line #401 (got 12 columns instead of 11)\n    Line #402 (got 12 columns instead of 11)\n    Line #403 (got 12 columns instead of 11)\n    Line #404 (got 12 columns instead of 11)\n    Line #405 (got 12 columns instead of 11)\n    Line #406 (got 12 columns instead of 11)\n    Line #407 (got 12 columns instead of 11)\n    Line #408 (got 12 columns instead of 11)\n    Line #409 (got 12 columns instead of 11)\n    Line #410 (got 12 columns instead of 11)\n    Line #411 (got 12 columns instead of 11)\n    Line #412 (got 12 columns instead of 11)\n    Line #413 (got 12 columns instead of 11)\n    Line #414 (got 12 columns instead of 11)\n    Line #415 (got 12 columns instead of 11)\n    Line #416 (got 12 columns instead of 11)\n    Line #417 (got 12 columns instead of 11)\n    Line #418 (got 12 columns instead of 11)\n    Line #419 (got 12 columns instead of 11)",
     "output_type": "error",
     "traceback": [
      "\u001b[1;31m\u001b[0m",
      "\u001b[1;31mValueError\u001b[0mTraceback (most recent call last)",
      "\u001b[1;32m<ipython-input-42-a117f1b3f889>\u001b[0m in \u001b[0;36m<module>\u001b[1;34m()\u001b[0m\n\u001b[1;32m----> 1\u001b[1;33m \u001b[0mdata\u001b[0m \u001b[1;33m=\u001b[0m \u001b[0mnp\u001b[0m\u001b[1;33m.\u001b[0m\u001b[0mgenfromtxt\u001b[0m\u001b[1;33m(\u001b[0m\u001b[1;34m\"data/titanic.csv\"\u001b[0m\u001b[1;33m,\u001b[0m \u001b[0mdelimiter\u001b[0m\u001b[1;33m=\u001b[0m\u001b[1;34m\",\"\u001b[0m\u001b[1;33m)\u001b[0m\u001b[1;33m\u001b[0m\u001b[0m\n\u001b[0m",
      "\u001b[1;32m/opt/python/lib64/python3.4/site-packages/numpy/lib/npyio.py\u001b[0m in \u001b[0;36mgenfromtxt\u001b[1;34m(fname, dtype, comments, delimiter, skip_header, skip_footer, converters, missing_values, filling_values, usecols, names, excludelist, deletechars, replace_space, autostrip, case_sensitive, defaultfmt, unpack, usemask, loose, invalid_raise, max_rows)\u001b[0m\n\u001b[0;32m   1767\u001b[0m             \u001b[1;31m# Raise an exception ?\u001b[0m\u001b[1;33m\u001b[0m\u001b[1;33m\u001b[0m\u001b[0m\n\u001b[0;32m   1768\u001b[0m             \u001b[1;32mif\u001b[0m \u001b[0minvalid_raise\u001b[0m\u001b[1;33m:\u001b[0m\u001b[1;33m\u001b[0m\u001b[0m\n\u001b[1;32m-> 1769\u001b[1;33m                 \u001b[1;32mraise\u001b[0m \u001b[0mValueError\u001b[0m\u001b[1;33m(\u001b[0m\u001b[0merrmsg\u001b[0m\u001b[1;33m)\u001b[0m\u001b[1;33m\u001b[0m\u001b[0m\n\u001b[0m\u001b[0;32m   1770\u001b[0m             \u001b[1;31m# Issue a warning ?\u001b[0m\u001b[1;33m\u001b[0m\u001b[1;33m\u001b[0m\u001b[0m\n\u001b[0;32m   1771\u001b[0m             \u001b[1;32melse\u001b[0m\u001b[1;33m:\u001b[0m\u001b[1;33m\u001b[0m\u001b[0m\n",
      "\u001b[1;31mValueError\u001b[0m: Some errors were detected !\n    Line #2 (got 12 columns instead of 11)\n    Line #3 (got 12 columns instead of 11)\n    Line #4 (got 12 columns instead of 11)\n    Line #5 (got 12 columns instead of 11)\n    Line #6 (got 12 columns instead of 11)\n    Line #7 (got 12 columns instead of 11)\n    Line #8 (got 12 columns instead of 11)\n    Line #9 (got 12 columns instead of 11)\n    Line #10 (got 12 columns instead of 11)\n    Line #11 (got 12 columns instead of 11)\n    Line #12 (got 12 columns instead of 11)\n    Line #13 (got 12 columns instead of 11)\n    Line #14 (got 12 columns instead of 11)\n    Line #15 (got 12 columns instead of 11)\n    Line #16 (got 12 columns instead of 11)\n    Line #17 (got 12 columns instead of 11)\n    Line #18 (got 12 columns instead of 11)\n    Line #19 (got 12 columns instead of 11)\n    Line #20 (got 12 columns instead of 11)\n    Line #21 (got 12 columns instead of 11)\n    Line #22 (got 12 columns instead of 11)\n    Line #23 (got 12 columns instead of 11)\n    Line #24 (got 12 columns instead of 11)\n    Line #25 (got 12 columns instead of 11)\n    Line #26 (got 12 columns instead of 11)\n    Line #27 (got 12 columns instead of 11)\n    Line #28 (got 12 columns instead of 11)\n    Line #29 (got 12 columns instead of 11)\n    Line #30 (got 12 columns instead of 11)\n    Line #31 (got 12 columns instead of 11)\n    Line #32 (got 12 columns instead of 11)\n    Line #33 (got 12 columns instead of 11)\n    Line #34 (got 12 columns instead of 11)\n    Line #35 (got 12 columns instead of 11)\n    Line #36 (got 12 columns instead of 11)\n    Line #37 (got 12 columns instead of 11)\n    Line #38 (got 12 columns instead of 11)\n    Line #39 (got 12 columns instead of 11)\n    Line #40 (got 12 columns instead of 11)\n    Line #41 (got 12 columns instead of 11)\n    Line #42 (got 12 columns instead of 11)\n    Line #43 (got 12 columns instead of 11)\n    Line #44 (got 12 columns instead of 11)\n    Line #45 (got 12 columns instead of 11)\n    Line #46 (got 12 columns instead of 11)\n    Line #47 (got 12 columns instead of 11)\n    Line #48 (got 12 columns instead of 11)\n    Line #49 (got 12 columns instead of 11)\n    Line #50 (got 12 columns instead of 11)\n    Line #51 (got 12 columns instead of 11)\n    Line #52 (got 12 columns instead of 11)\n    Line #53 (got 12 columns instead of 11)\n    Line #54 (got 12 columns instead of 11)\n    Line #55 (got 12 columns instead of 11)\n    Line #56 (got 12 columns instead of 11)\n    Line #57 (got 12 columns instead of 11)\n    Line #58 (got 12 columns instead of 11)\n    Line #59 (got 12 columns instead of 11)\n    Line #60 (got 12 columns instead of 11)\n    Line #61 (got 12 columns instead of 11)\n    Line #62 (got 12 columns instead of 11)\n    Line #63 (got 12 columns instead of 11)\n    Line #64 (got 12 columns instead of 11)\n    Line #65 (got 12 columns instead of 11)\n    Line #66 (got 12 columns instead of 11)\n    Line #67 (got 12 columns instead of 11)\n    Line #68 (got 12 columns instead of 11)\n    Line #69 (got 12 columns instead of 11)\n    Line #70 (got 12 columns instead of 11)\n    Line #71 (got 12 columns instead of 11)\n    Line #72 (got 12 columns instead of 11)\n    Line #73 (got 12 columns instead of 11)\n    Line #74 (got 12 columns instead of 11)\n    Line #75 (got 12 columns instead of 11)\n    Line #76 (got 12 columns instead of 11)\n    Line #77 (got 12 columns instead of 11)\n    Line #78 (got 12 columns instead of 11)\n    Line #79 (got 12 columns instead of 11)\n    Line #80 (got 12 columns instead of 11)\n    Line #81 (got 12 columns instead of 11)\n    Line #82 (got 12 columns instead of 11)\n    Line #83 (got 12 columns instead of 11)\n    Line #84 (got 12 columns instead of 11)\n    Line #85 (got 12 columns instead of 11)\n    Line #86 (got 12 columns instead of 11)\n    Line #87 (got 12 columns instead of 11)\n    Line #88 (got 12 columns instead of 11)\n    Line #89 (got 12 columns instead of 11)\n    Line #90 (got 12 columns instead of 11)\n    Line #91 (got 12 columns instead of 11)\n    Line #92 (got 12 columns instead of 11)\n    Line #93 (got 12 columns instead of 11)\n    Line #94 (got 12 columns instead of 11)\n    Line #95 (got 12 columns instead of 11)\n    Line #96 (got 12 columns instead of 11)\n    Line #97 (got 12 columns instead of 11)\n    Line #98 (got 12 columns instead of 11)\n    Line #99 (got 12 columns instead of 11)\n    Line #100 (got 12 columns instead of 11)\n    Line #101 (got 12 columns instead of 11)\n    Line #102 (got 12 columns instead of 11)\n    Line #103 (got 12 columns instead of 11)\n    Line #104 (got 12 columns instead of 11)\n    Line #105 (got 12 columns instead of 11)\n    Line #106 (got 12 columns instead of 11)\n    Line #107 (got 12 columns instead of 11)\n    Line #108 (got 12 columns instead of 11)\n    Line #109 (got 12 columns instead of 11)\n    Line #110 (got 12 columns instead of 11)\n    Line #111 (got 12 columns instead of 11)\n    Line #112 (got 12 columns instead of 11)\n    Line #113 (got 12 columns instead of 11)\n    Line #114 (got 12 columns instead of 11)\n    Line #115 (got 12 columns instead of 11)\n    Line #116 (got 12 columns instead of 11)\n    Line #117 (got 12 columns instead of 11)\n    Line #118 (got 12 columns instead of 11)\n    Line #119 (got 12 columns instead of 11)\n    Line #120 (got 12 columns instead of 11)\n    Line #121 (got 12 columns instead of 11)\n    Line #122 (got 12 columns instead of 11)\n    Line #123 (got 12 columns instead of 11)\n    Line #124 (got 12 columns instead of 11)\n    Line #125 (got 12 columns instead of 11)\n    Line #126 (got 12 columns instead of 11)\n    Line #127 (got 12 columns instead of 11)\n    Line #128 (got 12 columns instead of 11)\n    Line #129 (got 12 columns instead of 11)\n    Line #130 (got 12 columns instead of 11)\n    Line #131 (got 12 columns instead of 11)\n    Line #132 (got 12 columns instead of 11)\n    Line #133 (got 12 columns instead of 11)\n    Line #134 (got 12 columns instead of 11)\n    Line #135 (got 12 columns instead of 11)\n    Line #136 (got 12 columns instead of 11)\n    Line #137 (got 12 columns instead of 11)\n    Line #138 (got 12 columns instead of 11)\n    Line #139 (got 12 columns instead of 11)\n    Line #140 (got 12 columns instead of 11)\n    Line #141 (got 12 columns instead of 11)\n    Line #142 (got 12 columns instead of 11)\n    Line #143 (got 12 columns instead of 11)\n    Line #144 (got 12 columns instead of 11)\n    Line #145 (got 12 columns instead of 11)\n    Line #146 (got 12 columns instead of 11)\n    Line #147 (got 12 columns instead of 11)\n    Line #148 (got 12 columns instead of 11)\n    Line #149 (got 12 columns instead of 11)\n    Line #150 (got 12 columns instead of 11)\n    Line #151 (got 12 columns instead of 11)\n    Line #152 (got 12 columns instead of 11)\n    Line #153 (got 12 columns instead of 11)\n    Line #154 (got 12 columns instead of 11)\n    Line #155 (got 12 columns instead of 11)\n    Line #156 (got 12 columns instead of 11)\n    Line #157 (got 12 columns instead of 11)\n    Line #158 (got 12 columns instead of 11)\n    Line #159 (got 12 columns instead of 11)\n    Line #160 (got 12 columns instead of 11)\n    Line #161 (got 12 columns instead of 11)\n    Line #162 (got 12 columns instead of 11)\n    Line #163 (got 12 columns instead of 11)\n    Line #164 (got 12 columns instead of 11)\n    Line #165 (got 12 columns instead of 11)\n    Line #166 (got 12 columns instead of 11)\n    Line #167 (got 12 columns instead of 11)\n    Line #168 (got 12 columns instead of 11)\n    Line #169 (got 12 columns instead of 11)\n    Line #170 (got 12 columns instead of 11)\n    Line #171 (got 12 columns instead of 11)\n    Line #172 (got 12 columns instead of 11)\n    Line #173 (got 12 columns instead of 11)\n    Line #174 (got 12 columns instead of 11)\n    Line #175 (got 12 columns instead of 11)\n    Line #176 (got 12 columns instead of 11)\n    Line #177 (got 12 columns instead of 11)\n    Line #178 (got 12 columns instead of 11)\n    Line #179 (got 12 columns instead of 11)\n    Line #180 (got 12 columns instead of 11)\n    Line #181 (got 12 columns instead of 11)\n    Line #182 (got 12 columns instead of 11)\n    Line #183 (got 12 columns instead of 11)\n    Line #184 (got 12 columns instead of 11)\n    Line #185 (got 12 columns instead of 11)\n    Line #186 (got 12 columns instead of 11)\n    Line #187 (got 12 columns instead of 11)\n    Line #188 (got 12 columns instead of 11)\n    Line #189 (got 12 columns instead of 11)\n    Line #190 (got 12 columns instead of 11)\n    Line #191 (got 12 columns instead of 11)\n    Line #192 (got 12 columns instead of 11)\n    Line #193 (got 12 columns instead of 11)\n    Line #194 (got 12 columns instead of 11)\n    Line #195 (got 12 columns instead of 11)\n    Line #196 (got 12 columns instead of 11)\n    Line #197 (got 12 columns instead of 11)\n    Line #198 (got 12 columns instead of 11)\n    Line #199 (got 12 columns instead of 11)\n    Line #200 (got 12 columns instead of 11)\n    Line #201 (got 12 columns instead of 11)\n    Line #202 (got 12 columns instead of 11)\n    Line #203 (got 12 columns instead of 11)\n    Line #204 (got 12 columns instead of 11)\n    Line #205 (got 12 columns instead of 11)\n    Line #206 (got 12 columns instead of 11)\n    Line #207 (got 12 columns instead of 11)\n    Line #208 (got 12 columns instead of 11)\n    Line #209 (got 12 columns instead of 11)\n    Line #210 (got 12 columns instead of 11)\n    Line #211 (got 12 columns instead of 11)\n    Line #212 (got 12 columns instead of 11)\n    Line #213 (got 12 columns instead of 11)\n    Line #214 (got 12 columns instead of 11)\n    Line #215 (got 12 columns instead of 11)\n    Line #216 (got 12 columns instead of 11)\n    Line #217 (got 12 columns instead of 11)\n    Line #218 (got 12 columns instead of 11)\n    Line #219 (got 12 columns instead of 11)\n    Line #220 (got 12 columns instead of 11)\n    Line #221 (got 12 columns instead of 11)\n    Line #222 (got 12 columns instead of 11)\n    Line #223 (got 12 columns instead of 11)\n    Line #224 (got 12 columns instead of 11)\n    Line #225 (got 12 columns instead of 11)\n    Line #226 (got 12 columns instead of 11)\n    Line #227 (got 12 columns instead of 11)\n    Line #228 (got 12 columns instead of 11)\n    Line #229 (got 12 columns instead of 11)\n    Line #230 (got 12 columns instead of 11)\n    Line #231 (got 12 columns instead of 11)\n    Line #232 (got 12 columns instead of 11)\n    Line #233 (got 12 columns instead of 11)\n    Line #234 (got 12 columns instead of 11)\n    Line #235 (got 12 columns instead of 11)\n    Line #236 (got 12 columns instead of 11)\n    Line #237 (got 12 columns instead of 11)\n    Line #238 (got 12 columns instead of 11)\n    Line #239 (got 12 columns instead of 11)\n    Line #240 (got 12 columns instead of 11)\n    Line #241 (got 12 columns instead of 11)\n    Line #242 (got 12 columns instead of 11)\n    Line #243 (got 12 columns instead of 11)\n    Line #244 (got 12 columns instead of 11)\n    Line #245 (got 12 columns instead of 11)\n    Line #246 (got 12 columns instead of 11)\n    Line #247 (got 12 columns instead of 11)\n    Line #248 (got 12 columns instead of 11)\n    Line #249 (got 12 columns instead of 11)\n    Line #250 (got 12 columns instead of 11)\n    Line #251 (got 12 columns instead of 11)\n    Line #252 (got 12 columns instead of 11)\n    Line #253 (got 12 columns instead of 11)\n    Line #254 (got 12 columns instead of 11)\n    Line #255 (got 12 columns instead of 11)\n    Line #256 (got 12 columns instead of 11)\n    Line #257 (got 12 columns instead of 11)\n    Line #258 (got 12 columns instead of 11)\n    Line #259 (got 12 columns instead of 11)\n    Line #260 (got 12 columns instead of 11)\n    Line #261 (got 12 columns instead of 11)\n    Line #262 (got 12 columns instead of 11)\n    Line #263 (got 12 columns instead of 11)\n    Line #264 (got 12 columns instead of 11)\n    Line #265 (got 12 columns instead of 11)\n    Line #266 (got 12 columns instead of 11)\n    Line #267 (got 12 columns instead of 11)\n    Line #268 (got 12 columns instead of 11)\n    Line #269 (got 12 columns instead of 11)\n    Line #270 (got 12 columns instead of 11)\n    Line #271 (got 12 columns instead of 11)\n    Line #272 (got 12 columns instead of 11)\n    Line #273 (got 12 columns instead of 11)\n    Line #274 (got 12 columns instead of 11)\n    Line #275 (got 12 columns instead of 11)\n    Line #276 (got 12 columns instead of 11)\n    Line #277 (got 12 columns instead of 11)\n    Line #278 (got 12 columns instead of 11)\n    Line #279 (got 12 columns instead of 11)\n    Line #280 (got 12 columns instead of 11)\n    Line #281 (got 12 columns instead of 11)\n    Line #282 (got 12 columns instead of 11)\n    Line #283 (got 12 columns instead of 11)\n    Line #284 (got 12 columns instead of 11)\n    Line #285 (got 12 columns instead of 11)\n    Line #286 (got 12 columns instead of 11)\n    Line #287 (got 12 columns instead of 11)\n    Line #288 (got 12 columns instead of 11)\n    Line #289 (got 12 columns instead of 11)\n    Line #290 (got 12 columns instead of 11)\n    Line #291 (got 12 columns instead of 11)\n    Line #292 (got 12 columns instead of 11)\n    Line #293 (got 12 columns instead of 11)\n    Line #294 (got 12 columns instead of 11)\n    Line #295 (got 12 columns instead of 11)\n    Line #296 (got 12 columns instead of 11)\n    Line #297 (got 12 columns instead of 11)\n    Line #298 (got 12 columns instead of 11)\n    Line #299 (got 12 columns instead of 11)\n    Line #300 (got 12 columns instead of 11)\n    Line #301 (got 12 columns instead of 11)\n    Line #302 (got 12 columns instead of 11)\n    Line #303 (got 12 columns instead of 11)\n    Line #304 (got 12 columns instead of 11)\n    Line #305 (got 12 columns instead of 11)\n    Line #306 (got 12 columns instead of 11)\n    Line #307 (got 12 columns instead of 11)\n    Line #308 (got 12 columns instead of 11)\n    Line #309 (got 12 columns instead of 11)\n    Line #310 (got 12 columns instead of 11)\n    Line #311 (got 12 columns instead of 11)\n    Line #312 (got 12 columns instead of 11)\n    Line #313 (got 12 columns instead of 11)\n    Line #314 (got 12 columns instead of 11)\n    Line #315 (got 12 columns instead of 11)\n    Line #316 (got 12 columns instead of 11)\n    Line #317 (got 12 columns instead of 11)\n    Line #318 (got 12 columns instead of 11)\n    Line #319 (got 12 columns instead of 11)\n    Line #320 (got 12 columns instead of 11)\n    Line #321 (got 12 columns instead of 11)\n    Line #322 (got 12 columns instead of 11)\n    Line #323 (got 12 columns instead of 11)\n    Line #324 (got 12 columns instead of 11)\n    Line #325 (got 12 columns instead of 11)\n    Line #326 (got 12 columns instead of 11)\n    Line #327 (got 12 columns instead of 11)\n    Line #328 (got 12 columns instead of 11)\n    Line #329 (got 12 columns instead of 11)\n    Line #330 (got 12 columns instead of 11)\n    Line #331 (got 12 columns instead of 11)\n    Line #332 (got 12 columns instead of 11)\n    Line #333 (got 12 columns instead of 11)\n    Line #334 (got 12 columns instead of 11)\n    Line #335 (got 12 columns instead of 11)\n    Line #336 (got 12 columns instead of 11)\n    Line #337 (got 12 columns instead of 11)\n    Line #338 (got 12 columns instead of 11)\n    Line #339 (got 12 columns instead of 11)\n    Line #340 (got 12 columns instead of 11)\n    Line #341 (got 12 columns instead of 11)\n    Line #342 (got 12 columns instead of 11)\n    Line #343 (got 12 columns instead of 11)\n    Line #344 (got 12 columns instead of 11)\n    Line #345 (got 12 columns instead of 11)\n    Line #346 (got 12 columns instead of 11)\n    Line #347 (got 12 columns instead of 11)\n    Line #348 (got 12 columns instead of 11)\n    Line #349 (got 12 columns instead of 11)\n    Line #350 (got 12 columns instead of 11)\n    Line #351 (got 12 columns instead of 11)\n    Line #352 (got 12 columns instead of 11)\n    Line #353 (got 12 columns instead of 11)\n    Line #354 (got 12 columns instead of 11)\n    Line #355 (got 12 columns instead of 11)\n    Line #356 (got 12 columns instead of 11)\n    Line #357 (got 12 columns instead of 11)\n    Line #358 (got 12 columns instead of 11)\n    Line #359 (got 12 columns instead of 11)\n    Line #360 (got 12 columns instead of 11)\n    Line #361 (got 12 columns instead of 11)\n    Line #362 (got 12 columns instead of 11)\n    Line #363 (got 12 columns instead of 11)\n    Line #364 (got 12 columns instead of 11)\n    Line #365 (got 12 columns instead of 11)\n    Line #366 (got 12 columns instead of 11)\n    Line #367 (got 12 columns instead of 11)\n    Line #368 (got 12 columns instead of 11)\n    Line #369 (got 12 columns instead of 11)\n    Line #370 (got 12 columns instead of 11)\n    Line #371 (got 12 columns instead of 11)\n    Line #372 (got 12 columns instead of 11)\n    Line #373 (got 12 columns instead of 11)\n    Line #374 (got 12 columns instead of 11)\n    Line #375 (got 12 columns instead of 11)\n    Line #376 (got 12 columns instead of 11)\n    Line #377 (got 12 columns instead of 11)\n    Line #378 (got 12 columns instead of 11)\n    Line #379 (got 12 columns instead of 11)\n    Line #380 (got 12 columns instead of 11)\n    Line #381 (got 12 columns instead of 11)\n    Line #382 (got 12 columns instead of 11)\n    Line #383 (got 12 columns instead of 11)\n    Line #384 (got 12 columns instead of 11)\n    Line #385 (got 12 columns instead of 11)\n    Line #386 (got 12 columns instead of 11)\n    Line #387 (got 12 columns instead of 11)\n    Line #388 (got 12 columns instead of 11)\n    Line #389 (got 12 columns instead of 11)\n    Line #390 (got 12 columns instead of 11)\n    Line #391 (got 12 columns instead of 11)\n    Line #392 (got 12 columns instead of 11)\n    Line #393 (got 12 columns instead of 11)\n    Line #394 (got 12 columns instead of 11)\n    Line #395 (got 12 columns instead of 11)\n    Line #396 (got 12 columns instead of 11)\n    Line #397 (got 12 columns instead of 11)\n    Line #398 (got 12 columns instead of 11)\n    Line #399 (got 12 columns instead of 11)\n    Line #400 (got 12 columns instead of 11)\n    Line #401 (got 12 columns instead of 11)\n    Line #402 (got 12 columns instead of 11)\n    Line #403 (got 12 columns instead of 11)\n    Line #404 (got 12 columns instead of 11)\n    Line #405 (got 12 columns instead of 11)\n    Line #406 (got 12 columns instead of 11)\n    Line #407 (got 12 columns instead of 11)\n    Line #408 (got 12 columns instead of 11)\n    Line #409 (got 12 columns instead of 11)\n    Line #410 (got 12 columns instead of 11)\n    Line #411 (got 12 columns instead of 11)\n    Line #412 (got 12 columns instead of 11)\n    Line #413 (got 12 columns instead of 11)\n    Line #414 (got 12 columns instead of 11)\n    Line #415 (got 12 columns instead of 11)\n    Line #416 (got 12 columns instead of 11)\n    Line #417 (got 12 columns instead of 11)\n    Line #418 (got 12 columns instead of 11)\n    Line #419 (got 12 columns instead of 11)"
     ]
    }
   ],
   "source": [
    "data = np.genfromtxt(\"data/titanic.csv\", delimiter=\",\")\n"
   ]
  },
  {
   "cell_type": "markdown",
   "metadata": {},
   "source": [
    "This failed because the column headers have a 11 rows while the data appears to have 12 rows...have a think about why that is.\n",
    "\n",
    "If we ignored the header we can succesfully import the data"
   ]
  },
  {
   "cell_type": "code",
   "execution_count": 63,
   "metadata": {
    "collapsed": false
   },
   "outputs": [
    {
     "data": {
      "text/plain": [
       "(418, 12)"
      ]
     },
     "execution_count": 63,
     "metadata": {},
     "output_type": "execute_result"
    }
   ],
   "source": [
    "data = np.genfromtxt(\"data/titanic.csv\", delimiter=\",\", skip_header=1)\n",
    "data.shape"
   ]
  },
  {
   "cell_type": "code",
   "execution_count": 46,
   "metadata": {
    "collapsed": false
   },
   "outputs": [
    {
     "data": {
      "text/plain": [
       "array([  8.92000000e+02,   3.00000000e+00,              nan,\n",
       "                    nan,              nan,   3.45000000e+01,\n",
       "         0.00000000e+00,   0.00000000e+00,   3.30911000e+05,\n",
       "         7.82920000e+00,              nan,              nan])"
      ]
     },
     "execution_count": 46,
     "metadata": {},
     "output_type": "execute_result"
    }
   ],
   "source": [
    "data[0, :]"
   ]
  },
  {
   "cell_type": "markdown",
   "metadata": {},
   "source": [
    "Unfortunately this is still not that a great solution. Our strings have become nans and our array has 12 colums because it interpreted the comma inside the name field as a column delimiter. without resorting to even more complexity, it may be easiest at this stage to tell `np.genfromtxt` exactly which columns we want to use, thereby creating a purely numeric array:"
   ]
  },
  {
   "cell_type": "code",
   "execution_count": 47,
   "metadata": {
    "collapsed": false
   },
   "outputs": [
    {
     "name": "stdout",
     "output_type": "stream",
     "text": [
      "PassengerId,Pclass,Name,Sex,Age,SibSp,Parch,Ticket,Fare,Cabin,Embarked\r",
      "\r\n",
      "892,3,\"Kelly, Mr. James\",male,34.5,0,0,330911,7.8292,,Q\r",
      "\r\n"
     ]
    }
   ],
   "source": [
    "!head -2 \"data/titanic.csv\""
   ]
  },
  {
   "cell_type": "code",
   "execution_count": 62,
   "metadata": {
    "collapsed": false
   },
   "outputs": [
    {
     "data": {
      "text/plain": [
       "array([  8.92000000e+02,   3.00000000e+00,   3.45000000e+01,\n",
       "         0.00000000e+00,   0.00000000e+00,   3.30911000e+05,\n",
       "         7.82920000e+00])"
      ]
     },
     "execution_count": 62,
     "metadata": {},
     "output_type": "execute_result"
    }
   ],
   "source": [
    "data = np.genfromtxt(\"data/titanic.csv\", delimiter=\",\", skip_header=1, usecols=tuple((0,1,5,6,7,8,9)))\n",
    "data[0,:]"
   ]
  },
  {
   "cell_type": "markdown",
   "metadata": {},
   "source": [
    "This is fine, and if you definately want to use the numpy package, it may be the easiest way to get just the numeric data out of a delimited plain txt file (i.e a csv ).\n",
    "\n",
    "But if your data consists of both number and characters, there is a more applicable package available in Python..."
   ]
  },
  {
   "cell_type": "markdown",
   "metadata": {},
   "source": [
    "## Pandas"
   ]
  },
  {
   "cell_type": "code",
   "execution_count": 65,
   "metadata": {
    "collapsed": true
   },
   "outputs": [],
   "source": [
    "# For .read_csv, always use header=0 when you know row 0 is the header row\n",
    "df = pd.read_csv(\"data/titanic.csv\", header=0)"
   ]
  },
  {
   "cell_type": "code",
   "execution_count": 68,
   "metadata": {
    "collapsed": false
   },
   "outputs": [
    {
     "name": "stdout",
     "output_type": "stream",
     "text": [
      "(418, 11) <class 'pandas.core.frame.DataFrame'>\n"
     ]
    }
   ],
   "source": [
    "print(df.shape, type(df))"
   ]
  },
  {
   "cell_type": "markdown",
   "metadata": {},
   "source": [
    "Okay, that seemed to work pretty well. Pandas was even clever enough to interpret the comma in the names field as a data value, rather than a delimiter. Well done Pandas.\n",
    "\n",
    "In the course we don't teach Pandas, but given we're here lets have a quick look at some out of the box tools."
   ]
  },
  {
   "cell_type": "code",
   "execution_count": 69,
   "metadata": {
    "collapsed": false
   },
   "outputs": [
    {
     "name": "stdout",
     "output_type": "stream",
     "text": [
      "<class 'pandas.core.frame.DataFrame'>\n",
      "RangeIndex: 418 entries, 0 to 417\n",
      "Data columns (total 11 columns):\n",
      "PassengerId    418 non-null int64\n",
      "Pclass         418 non-null int64\n",
      "Name           418 non-null object\n",
      "Sex            418 non-null object\n",
      "Age            332 non-null float64\n",
      "SibSp          418 non-null int64\n",
      "Parch          418 non-null int64\n",
      "Ticket         418 non-null object\n",
      "Fare           417 non-null float64\n",
      "Cabin          91 non-null object\n",
      "Embarked       418 non-null object\n",
      "dtypes: float64(2), int64(4), object(5)\n",
      "memory usage: 36.0+ KB\n"
     ]
    }
   ],
   "source": [
    "df.info()"
   ]
  },
  {
   "cell_type": "markdown",
   "metadata": {},
   "source": [
    "There's a lot of useful info there! You can see immediately we have 418 entries (rows), and for most of the variables we have complete values (418 are non-null). But not for Age, or fare, Cabin -- those have nulls somewhere."
   ]
  },
  {
   "cell_type": "code",
   "execution_count": 70,
   "metadata": {
    "collapsed": false
   },
   "outputs": [
    {
     "name": "stderr",
     "output_type": "stream",
     "text": [
      "/opt/python/lib64/python3.4/site-packages/numpy/lib/function_base.py:3823: RuntimeWarning: Invalid value encountered in percentile\n",
      "  RuntimeWarning)\n"
     ]
    },
    {
     "data": {
      "text/html": [
       "<div>\n",
       "<table border=\"1\" class=\"dataframe\">\n",
       "  <thead>\n",
       "    <tr style=\"text-align: right;\">\n",
       "      <th></th>\n",
       "      <th>PassengerId</th>\n",
       "      <th>Pclass</th>\n",
       "      <th>Age</th>\n",
       "      <th>SibSp</th>\n",
       "      <th>Parch</th>\n",
       "      <th>Fare</th>\n",
       "    </tr>\n",
       "  </thead>\n",
       "  <tbody>\n",
       "    <tr>\n",
       "      <th>count</th>\n",
       "      <td>418.000000</td>\n",
       "      <td>418.000000</td>\n",
       "      <td>332.000000</td>\n",
       "      <td>418.000000</td>\n",
       "      <td>418.000000</td>\n",
       "      <td>417.000000</td>\n",
       "    </tr>\n",
       "    <tr>\n",
       "      <th>mean</th>\n",
       "      <td>1100.500000</td>\n",
       "      <td>2.265550</td>\n",
       "      <td>30.272590</td>\n",
       "      <td>0.447368</td>\n",
       "      <td>0.392344</td>\n",
       "      <td>35.627188</td>\n",
       "    </tr>\n",
       "    <tr>\n",
       "      <th>std</th>\n",
       "      <td>120.810458</td>\n",
       "      <td>0.841838</td>\n",
       "      <td>14.181209</td>\n",
       "      <td>0.896760</td>\n",
       "      <td>0.981429</td>\n",
       "      <td>55.907576</td>\n",
       "    </tr>\n",
       "    <tr>\n",
       "      <th>min</th>\n",
       "      <td>892.000000</td>\n",
       "      <td>1.000000</td>\n",
       "      <td>0.170000</td>\n",
       "      <td>0.000000</td>\n",
       "      <td>0.000000</td>\n",
       "      <td>0.000000</td>\n",
       "    </tr>\n",
       "    <tr>\n",
       "      <th>25%</th>\n",
       "      <td>996.250000</td>\n",
       "      <td>1.000000</td>\n",
       "      <td>NaN</td>\n",
       "      <td>0.000000</td>\n",
       "      <td>0.000000</td>\n",
       "      <td>NaN</td>\n",
       "    </tr>\n",
       "    <tr>\n",
       "      <th>50%</th>\n",
       "      <td>1100.500000</td>\n",
       "      <td>3.000000</td>\n",
       "      <td>NaN</td>\n",
       "      <td>0.000000</td>\n",
       "      <td>0.000000</td>\n",
       "      <td>NaN</td>\n",
       "    </tr>\n",
       "    <tr>\n",
       "      <th>75%</th>\n",
       "      <td>1204.750000</td>\n",
       "      <td>3.000000</td>\n",
       "      <td>NaN</td>\n",
       "      <td>1.000000</td>\n",
       "      <td>0.000000</td>\n",
       "      <td>NaN</td>\n",
       "    </tr>\n",
       "    <tr>\n",
       "      <th>max</th>\n",
       "      <td>1309.000000</td>\n",
       "      <td>3.000000</td>\n",
       "      <td>76.000000</td>\n",
       "      <td>8.000000</td>\n",
       "      <td>9.000000</td>\n",
       "      <td>512.329200</td>\n",
       "    </tr>\n",
       "  </tbody>\n",
       "</table>\n",
       "</div>"
      ],
      "text/plain": [
       "       PassengerId      Pclass         Age       SibSp       Parch        Fare\n",
       "count   418.000000  418.000000  332.000000  418.000000  418.000000  417.000000\n",
       "mean   1100.500000    2.265550   30.272590    0.447368    0.392344   35.627188\n",
       "std     120.810458    0.841838   14.181209    0.896760    0.981429   55.907576\n",
       "min     892.000000    1.000000    0.170000    0.000000    0.000000    0.000000\n",
       "25%     996.250000    1.000000         NaN    0.000000    0.000000         NaN\n",
       "50%    1100.500000    3.000000         NaN    0.000000    0.000000         NaN\n",
       "75%    1204.750000    3.000000         NaN    1.000000    0.000000         NaN\n",
       "max    1309.000000    3.000000   76.000000    8.000000    9.000000  512.329200"
      ]
     },
     "execution_count": 70,
     "metadata": {},
     "output_type": "execute_result"
    }
   ],
   "source": [
    "df.describe()"
   ]
  },
  {
   "cell_type": "markdown",
   "metadata": {},
   "source": [
    "This is also very useful: pandas has taken all of the numerical columns and quickly calculated the mean, std, minimum and maximum value. Convenient! But also a word of caution: we know there are a lot of missing values in Age, for example. How did pandas deal with that? It must have left out any nulls from the calculation. So if we start quoting the \"average age on the Titanic\" we need to caveat how we derived that number."
   ]
  },
  {
   "cell_type": "code",
   "execution_count": 73,
   "metadata": {
    "collapsed": false
   },
   "outputs": [
    {
     "data": {
      "image/png": "[encoded data removed]",
      "text/plain": [
       "<matplotlib.figure.Figure at 0x7f7527e495c0>"
      ]
     },
     "metadata": {},
     "output_type": "display_data"
    }
   ],
   "source": [
    "%matplotlib inline\n",
    "import matplotlib.pyplot as plt\n",
    "df['Age'].dropna().hist(bins=16, range=(0,80), alpha = .5)\n",
    "plt.show()"
   ]
  },
  {
   "cell_type": "markdown",
   "metadata": {},
   "source": [
    "If you're intersted in looking at more examples with this data, checkout this kaggle page: https://www.kaggle.com/c/titanic/details/getting-started-with-python-ii"
   ]
  },
  {
   "cell_type": "code",
   "execution_count": null,
   "metadata": {
    "collapsed": true
   },
   "outputs": [],
   "source": []
  }
 ],
 "metadata": {
  "kernelspec": {
   "display_name": "Python 2",
   "language": "python",
   "name": "python2"
  },
  "language_info": {
   "codemirror_mode": {
    "name": "ipython",
    "version": 2
   },
   "file_extension": ".py",
   "mimetype": "text/x-python",
   "name": "python",
   "nbconvert_exporter": "python",
   "pygments_lexer": "ipython2",
   "version": "2.7.11"
  }
 },
 "nbformat": 4,
 "nbformat_minor": 0
}
